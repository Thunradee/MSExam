{
 "cells": [
  {
   "cell_type": "code",
   "execution_count": 1,
   "metadata": {},
   "outputs": [],
   "source": [
    "# Import libraries\n",
    "import utils.mnist_reader as mnist_reader\n",
    "import time\n",
    "import numpy as np\n",
    "from dask import delayed, compute\n",
    "from numba import njit\n",
    "import matplotlib.pyplot as plt"
   ]
  },
  {
   "cell_type": "code",
   "execution_count": 2,
   "metadata": {},
   "outputs": [],
   "source": [
    "# Import Fashion-MNIST dataset\n",
    "X, y = mnist_reader.load_mnist('data/fashion', kind='train')\n",
    "\n",
    "# Convert data type to be float 64 bit\n",
    "X = X.astype(np.float64)\n",
    "\n",
    "# Change the label from multi-labels to binary\n",
    "# The original label is [0,1,...,9]\n",
    "# Convert to -1 and 1, where -1 is even number and odd number\n",
    "bi_y = [1 if e%2 else -1 for e in y]\n",
    "y = np.array(bi_y, dtype=np.int32)"
   ]
  },
  {
   "cell_type": "markdown",
   "metadata": {},
   "source": [
    "# Numpy"
   ]
  },
  {
   "cell_type": "code",
   "execution_count": 3,
   "metadata": {},
   "outputs": [],
   "source": [
    "# Passive Aggressive Algorithm for binary classification\n",
    "def fit(X, y, max_iter):\n",
    "    '''\n",
    "    Train classifier\n",
    "    '''\n",
    "    n_features = len(X[0])\n",
    "    weight = np.zeros(n_features, dtype=np.float64)\n",
    "    for epoch in range(max_iter):\n",
    "        # For each data point in the training set\n",
    "        for i, x in enumerate(X):\n",
    "            # Predict using the current weights\n",
    "            a = np.dot(weight, x)\n",
    "            pred = int(np.sign(a))\n",
    "            # If the prediction is wrong\n",
    "            if pred != y[i]:\n",
    "                # calculate L2 norm square\n",
    "                l2sq = np.linalg.norm(x, ord=2)**2\n",
    "                # calculate learning rate\n",
    "                learning_rate = (1 - (y[i] * a)) / l2sq\n",
    "                # Update the weights\n",
    "                weight += (learning_rate * y[i]) * x\n",
    "    \n",
    "    return weight\n",
    "\n",
    "def predict(X, weight):\n",
    "    '''\n",
    "    Predict label\n",
    "    '''\n",
    "    # Initialize prediction list\n",
    "    predictions = np.zeros(len(X), dtype=np.int32)\n",
    "    \n",
    "    # For each data point in the testing set\n",
    "    for i, x in enumerate(X):\n",
    "        # Predict a label\n",
    "        pred = np.sign(np.dot(weight, x))\n",
    "        # Add to the prediction list\n",
    "        predictions[i] = int(pred)\n",
    "    # Return the prediction list\n",
    "    return predictions\n",
    "\n",
    "def mistake(pred, label):\n",
    "    '''\n",
    "    Find number of prediction mistakes\n",
    "    '''\n",
    "    n_mistake = np.sum(pred != label)\n",
    "    # Return number of mistake\n",
    "    return n_mistake\n",
    "\n",
    "def plot(n_mistakes):\n",
    "    '''\n",
    "    Plot online learning curve\n",
    "    '''\n",
    "#     n = len(n_mistakes)\n",
    "#     plt.plot(np.arange(1, n+1), n_mistakes)\n",
    "#     plt.title(\"Online Learning Curve\")\n",
    "#     plt.xlabel(\"Iteration\")\n",
    "#     plt.ylabel(\"Number of mistake\")\n",
    "#     plt.xticks(np.arange(1, n+1))\n",
    "#     plt.show()\n",
    "    return sum(n_mistakes)\n",
    "\n",
    "def online_learning_curve(n_iter):\n",
    "    '''\n",
    "    Compute number of mistake and plot online learning curve from 1 to n_iter iterations \n",
    "    '''\n",
    "    n_mistakes = np.zeros(n_iter, dtype=np.int64)\n",
    "    for i in range(1, n_iter+1):\n",
    "        w = fit(X, y, i)\n",
    "        pred = predict(X, w)\n",
    "        n_mis = mistake(pred, y)\n",
    "        n_mistakes[i-1] = n_mis\n",
    "    \n",
    "    plot(n_mistakes)"
   ]
  },
  {
   "cell_type": "code",
   "execution_count": 4,
   "metadata": {},
   "outputs": [],
   "source": [
    "# Experament\n",
    "n = 15\n",
    "repeat = 5\n",
    "\n",
    "ex_time = np.zeros(n, dtype=np.float64)\n",
    "\n",
    "# Repeat experiment \"repeat\" times\n",
    "for k in range(repeat):\n",
    "    # Plot online learning curve n curves\n",
    "    for i in range(1, n+1):\n",
    "        start = time.time()\n",
    "        online_learning_curve(i)\n",
    "        end = time.time()\n",
    "        ex_time[i-1] += end - start\n",
    "        \n",
    "ex_time = ex_time / repeat"
   ]
  },
  {
   "cell_type": "code",
   "execution_count": 5,
   "metadata": {},
   "outputs": [
    {
     "name": "stdout",
     "output_type": "stream",
     "text": [
      "Numpy excution time: [ 0.58918352  1.52984042  2.86202421  4.59866476  6.70462365  9.18097539\n",
      " 12.1941927  15.45066485 19.65325332 23.0835598  27.54208174 31.9528903\n",
      " 36.54343686 42.96819735 48.66805935]\n",
      "Numpy total time: 283.5216482162475\n"
     ]
    }
   ],
   "source": [
    "print(\"Numpy excution time:\", ex_time)\n",
    "print(\"Numpy total time:\", sum(ex_time))"
   ]
  },
  {
   "cell_type": "markdown",
   "metadata": {},
   "source": [
    "# Numpy + Dask"
   ]
  },
  {
   "cell_type": "code",
   "execution_count": 10,
   "metadata": {},
   "outputs": [],
   "source": [
    "# Passive Aggressive Algorithm for binary classification\n",
    "@delayed\n",
    "def dask_fit(X, y, max_iter):\n",
    "    '''\n",
    "    Train classifier\n",
    "    '''\n",
    "    n_features = len(X[0])\n",
    "    weight = np.zeros(n_features, dtype=np.float64)\n",
    "    for epoch in range(max_iter):\n",
    "        # For each data point in the training set\n",
    "        for i, x in enumerate(X):\n",
    "            # Predict using the current weights\n",
    "            a = np.dot(weight, x)\n",
    "            pred = int(np.sign(a))\n",
    "            # If the prediction is wrong\n",
    "            if pred != y[i]:\n",
    "                # calculate L2 norm square\n",
    "                l2sq = np.linalg.norm(x, ord=2)**2\n",
    "                # calculate learning rate\n",
    "                learning_rate = (1 - (y[i] * a)) / l2sq\n",
    "                # Update the weights\n",
    "                weight += (learning_rate * y[i]) * x\n",
    "    \n",
    "    return weight\n",
    "\n",
    "@delayed\n",
    "def dask_predict(X, weight):\n",
    "    '''\n",
    "    Predict label\n",
    "    '''\n",
    "    # Initialize prediction list\n",
    "    predictions = np.zeros(len(X), dtype=np.int32)\n",
    "    \n",
    "    # For each data point in the testing set\n",
    "    for i, x in enumerate(X):\n",
    "        # Predict a label\n",
    "        pred = np.sign(np.dot(weight, x))\n",
    "        # Add to the prediction list\n",
    "        predictions[i] = int(pred)\n",
    "    # Return the prediction list\n",
    "    return predictions\n",
    "\n",
    "@delayed\n",
    "def dask_mistake(pred, label):\n",
    "    '''\n",
    "    Find number of prediction mistakes\n",
    "    '''\n",
    "    n_mistake = np.sum(pred != label)\n",
    "    # Return number of mistake\n",
    "    return n_mistake\n",
    "\n",
    "@delayed\n",
    "def dask_plot(n_mistakes):\n",
    "    '''\n",
    "    Plot online learning curve\n",
    "    '''\n",
    "#     n = len(n_mistakes)\n",
    "#     plt.plot(np.arange(1, n+1), n_mistakes)\n",
    "#     plt.title(\"Online Learning Curve\")\n",
    "#     plt.xlabel(\"Iteration\")\n",
    "#     plt.ylabel(\"Number of mistake\")\n",
    "#     plt.xticks(np.arange(1, n+1))\n",
    "#     plt.show()\n",
    "    return sum(n_mistakes)\n",
    "\n",
    "def dask_online_learning_curve(n_iter):\n",
    "    '''\n",
    "    Compute number of mistake and plot an online learning curve, x-axis is from 1 to n_iter iterations \n",
    "    '''\n",
    "#     n_mistakes = np.zeros(n_iter, dtype=np.int64)\n",
    "    n_mistakes = []\n",
    "    \n",
    "    w = dask_fit(X, y, n_iter)\n",
    "    pred = dask_predict(X, w)\n",
    "    n_mis = dask_mistake(pred, y)\n",
    "#     n_mistakes[i-1] = n_mis\n",
    "    n_mistakes.append(n_mis)\n",
    "\n",
    "    total = dask_plot(n_mistakes)\n",
    "    total.compute()"
   ]
  },
  {
   "cell_type": "code",
   "execution_count": 11,
   "metadata": {},
   "outputs": [],
   "source": [
    "# Experiment\n",
    "dask_ex_time = np.zeros(n, dtype=np.float64)\n",
    "\n",
    "# Repeat experiment \"repeat\" times\n",
    "for k in range(repeat):\n",
    "    # Plot online learning curve n curves\n",
    "    for i in range(1, n+1):\n",
    "        start = time.time()\n",
    "        \n",
    "        dask_online_learning_curve(i)\n",
    "\n",
    "        end = time.time()\n",
    "        dask_ex_time[i-1] += end - start\n",
    "        \n",
    "dask_ex_time = dask_ex_time / repeat"
   ]
  },
  {
   "cell_type": "code",
   "execution_count": 27,
   "metadata": {},
   "outputs": [
    {
     "name": "stdout",
     "output_type": "stream",
     "text": [
      "Numpy+Dask excution time: [0.57796416 0.92500849 1.28725739 1.62485852 1.98173232 2.34482808\n",
      " 2.72045202 3.28210177 3.4205174  3.78754864 4.1198236  4.51883559\n",
      " 4.81267529 5.22173362 5.67885871]\n",
      "Numpy+Dask total time: 46.3041955947876\n"
     ]
    }
   ],
   "source": [
    "print(\"Numpy+Dask excution time:\", dask_ex_time)\n",
    "print(\"Numpy+Dask total time:\", sum(dask_ex_time))"
   ]
  },
  {
   "cell_type": "markdown",
   "metadata": {},
   "source": [
    "# Numpy + Numba"
   ]
  },
  {
   "cell_type": "code",
   "execution_count": 15,
   "metadata": {},
   "outputs": [],
   "source": [
    "# Passive Aggressive Algorithm for binary classification\n",
    "@njit(nogil=True)\n",
    "def nb_fit(X, y, max_iter):\n",
    "    '''\n",
    "    Train classifier\n",
    "    '''\n",
    "    n_features = len(X[0])\n",
    "    weight = np.zeros(n_features, dtype=np.float64)\n",
    "    n = len(X)\n",
    "    for epoch in range(max_iter):\n",
    "        # For each data point in the training set\n",
    "        for i in range(n):\n",
    "            # Predict using the current weights\n",
    "            a = np.dot(weight, X[i])\n",
    "            pred = int(np.sign(a))\n",
    "            # If the prediction is wrong\n",
    "            if pred != y[i]:\n",
    "                # calculate L2 norm square\n",
    "                l2sq = np.linalg.norm(X[i], ord=2)**2\n",
    "                # calculate learning rate\n",
    "                learning_rate = (1 - (y[i] * a)) / l2sq\n",
    "                # Update the weights\n",
    "                weight += (learning_rate * y[i]) * X[i]\n",
    "    \n",
    "    return weight\n",
    "\n",
    "@njit(nogil=True)\n",
    "def nb_predict(X, weight):\n",
    "    '''\n",
    "    Predict label\n",
    "    '''\n",
    "    # Initialize prediction list\n",
    "    predictions = np.zeros(len(X), dtype=np.int32)\n",
    "    n = len(X)\n",
    "    # For each data point in the testing set\n",
    "    for i in range(n):\n",
    "        # Predict a label\n",
    "        pred = np.sign(np.dot(weight, X[i]))\n",
    "        # Add to the prediction list\n",
    "        predictions[i] = int(pred)\n",
    "    # Return the prediction list\n",
    "    return predictions\n",
    "\n",
    "@njit(nogil=True)\n",
    "def nb_mistake(pred, label):\n",
    "    '''\n",
    "    Find number of prediction mistakes\n",
    "    '''\n",
    "    n_mistake = np.sum(pred != label)\n",
    "    # Return number of mistake\n",
    "    return n_mistake\n",
    "\n",
    "@njit(nogil=True)\n",
    "def nb_plot(n_mistakes):\n",
    "    '''\n",
    "    Plot online learning curve\n",
    "    '''\n",
    "#     n = len(n_mistakes)\n",
    "#     plt.plot(np.arange(1, n+1), n_mistakes)\n",
    "#     plt.title(\"Online Learning Curve\")\n",
    "#     plt.xlabel(\"Iteration\")\n",
    "#     plt.ylabel(\"Number of mistake\")\n",
    "#     plt.xticks(np.arange(1, n+1))\n",
    "#     plt.show()\n",
    "    return np.sum(n_mistakes)\n",
    "\n",
    "@njit(nogil=True)\n",
    "def nb_online_learning_curve(n_iter):\n",
    "    '''\n",
    "    Compute number of mistake and plot online learning curve from 1 to n_iter iterations \n",
    "    '''\n",
    "    n_mistakes = np.zeros(n_iter, dtype=np.int64)\n",
    "    for i in range(1, n_iter+1):\n",
    "        w = nb_fit(X, y, i)\n",
    "        pred = nb_predict(X, w)\n",
    "        n_mis = nb_mistake(pred, y)\n",
    "        n_mistakes[i-1] = n_mis\n",
    "    \n",
    "    nb_plot(n_mistakes)"
   ]
  },
  {
   "cell_type": "code",
   "execution_count": 16,
   "metadata": {},
   "outputs": [],
   "source": [
    "# Experiment\n",
    "nb_ex_time = np.zeros(n, dtype=np.float64)\n",
    "\n",
    "# Repeat experiment \"repeat\" times\n",
    "for k in range(repeat):\n",
    "    # Plot online learning curve n curves\n",
    "    for i in range(1, n+1):\n",
    "        start = time.time()\n",
    "    \n",
    "        nb_online_learning_curve(i)\n",
    "\n",
    "        end = time.time()\n",
    "        nb_ex_time[i-1] += end - start\n",
    "        \n",
    "nb_ex_time = nb_ex_time / repeat"
   ]
  },
  {
   "cell_type": "code",
   "execution_count": 28,
   "metadata": {},
   "outputs": [
    {
     "name": "stdout",
     "output_type": "stream",
     "text": [
      "Numpy+Numba excution time: [0.45491624 0.12660022 0.24216762 0.36704721 0.52403278 0.70050359\n",
      " 0.94140897 1.13198943 1.39063129 1.7078536  2.07539172 2.46741586\n",
      " 2.8068296  3.23344908 3.62868023]\n",
      "Numpy+Numba total time: 21.79891743659973\n"
     ]
    }
   ],
   "source": [
    "print(\"Numpy+Numba excution time:\", nb_ex_time)\n",
    "print(\"Numpy+Numba total time:\", sum(nb_ex_time))"
   ]
  },
  {
   "cell_type": "markdown",
   "metadata": {},
   "source": [
    "# Numpy + Dask + Numba"
   ]
  },
  {
   "cell_type": "code",
   "execution_count": 20,
   "metadata": {},
   "outputs": [],
   "source": [
    "def dnb_online_learning_curve(n_iter):\n",
    "    '''\n",
    "    Compute number of mistake and plot an online learning curve, x-axis is from 1 to n_iter iterations \n",
    "    '''\n",
    "    n_mistakes = np.zeros(n_iter, dtype=np.int64)\n",
    "    \n",
    "    w = nb_fit(X, y, n_iter)\n",
    "    pred = nb_predict(X, w)\n",
    "    n_mis = nb_mistake(pred, y)\n",
    "    n_mistakes[i-1] = n_mis\n",
    "\n",
    "    total = dask_plot(n_mistakes)\n",
    "    total.compute()"
   ]
  },
  {
   "cell_type": "code",
   "execution_count": 21,
   "metadata": {},
   "outputs": [],
   "source": [
    "# Experiment\n",
    "dnb_ex_time = np.zeros(n, dtype=np.float64)\n",
    "\n",
    "# Repeat experiment \"repeat\" times\n",
    "for k in range(repeat):\n",
    "    # Plot online learning curve n curves\n",
    "    for i in range(1, n+1):\n",
    "        start = time.time()\n",
    "    \n",
    "        dnb_online_learning_curve(i)\n",
    "\n",
    "        end = time.time()\n",
    "        dnb_ex_time[i-1] += end - start\n",
    "        \n",
    "dnb_ex_time = dnb_ex_time / repeat"
   ]
  },
  {
   "cell_type": "code",
   "execution_count": 22,
   "metadata": {},
   "outputs": [
    {
     "name": "stdout",
     "output_type": "stream",
     "text": [
      "Dask + Numba excution time: [0.20279641 0.07960687 0.10745234 0.1333478  0.16448865 0.19561043\n",
      " 0.20821261 0.24484959 0.27476373 0.33256712 0.33625221 0.35697484\n",
      " 0.37751799 0.44102802 0.45877018]\n",
      "Dask + Numba total time: 3.9142387866973873\n"
     ]
    }
   ],
   "source": [
    "print(\"Numpy+Dask+Numba excution time:\", dnb_ex_time)\n",
    "print(\"Numpy+Dask+Numba total time:\", sum(dnb_ex_time))"
   ]
  },
  {
   "cell_type": "markdown",
   "metadata": {},
   "source": [
    "# Plot graph"
   ]
  },
  {
   "cell_type": "code",
   "execution_count": 23,
   "metadata": {},
   "outputs": [
    {
     "data": {
      "image/png": "[encoded data removed]",
      "text/plain": [
       "<Figure size 432x288 with 1 Axes>"
      ]
     },
     "metadata": {
      "needs_background": "light"
     },
     "output_type": "display_data"
    }
   ],
   "source": [
    "# Numpy vs Numpy+Dask\n",
    "\n",
    "lb1 = \"Numpy\"\n",
    "lb2 = \"Numpy+Dask\"\n",
    "plt.plot(np.arange(1, n+1), ex_time, label=lb1)\n",
    "plt.plot(np.arange(1, n+1), dask_ex_time, label=lb2)\n",
    "plt.title(\"Execution time by number of iteration\")\n",
    "plt.xlabel(\"Iterations\")\n",
    "plt.ylabel(\"Time (seconds)\")\n",
    "plt.legend()\n",
    "plt.show()"
   ]
  },
  {
   "cell_type": "code",
   "execution_count": 24,
   "metadata": {},
   "outputs": [
    {
     "data": {
      "image/png": "[encoded data removed]",
      "text/plain": [
       "<Figure size 432x288 with 1 Axes>"
      ]
     },
     "metadata": {
      "needs_background": "light"
     },
     "output_type": "display_data"
    }
   ],
   "source": [
    "# Numpy vs Numpy+Numba\n",
    "\n",
    "lb1 = \"Numpy\"\n",
    "lb2 = \"Numpy+Numba\"\n",
    "plt.plot(np.arange(1, n+1), ex_time, label=lb1)\n",
    "plt.plot(np.arange(1, n+1), nb_ex_time, label=lb2)\n",
    "plt.title(\"Execution time by number of iteration\")\n",
    "plt.xlabel(\"Iterations\")\n",
    "plt.ylabel(\"Time (seconds)\")\n",
    "plt.legend()\n",
    "plt.show()"
   ]
  },
  {
   "cell_type": "code",
   "execution_count": 26,
   "metadata": {},
   "outputs": [
    {
     "data": {
      "image/png": "[encoded data removed]",
      "text/plain": [
       "<Figure size 432x288 with 1 Axes>"
      ]
     },
     "metadata": {
      "needs_background": "light"
     },
     "output_type": "display_data"
    }
   ],
   "source": [
    "# Numpy vs Numpy+Dask vs Numpy+Numba vs Numpy+Dask+Numba\n",
    "\n",
    "lb1 = \"Numpy\"\n",
    "lb2 = \"Numpy+Dask\"\n",
    "lb3 = \"Numpy+Numba\"\n",
    "lb4 = \"Numpy+Dask+Numba\"\n",
    "plt.plot(np.arange(1, n+1), ex_time, label=lb1)\n",
    "plt.plot(np.arange(1, n+1), dask_ex_time, label=lb2)\n",
    "plt.plot(np.arange(1, n+1), nb_ex_time, label=lb3)\n",
    "plt.plot(np.arange(1, n+1), dnb_ex_time, label=lb4)\n",
    "plt.title(\"Execution time by number of iteration\")\n",
    "plt.xlabel(\"Iterations\")\n",
    "plt.ylabel(\"Time (seconds)\")\n",
    "plt.legend()\n",
    "plt.show()"
   ]
  }
 ],
 "metadata": {
  "kernelspec": {
   "display_name": "Python 3",
   "language": "python",
   "name": "python3"
  },
  "language_info": {
   "codemirror_mode": {
    "name": "ipython",
    "version": 3
   },
   "file_extension": ".py",
   "mimetype": "text/x-python",
   "name": "python",
   "nbconvert_exporter": "python",
   "pygments_lexer": "ipython3",
   "version": "3.7.4"
  }
 },
 "nbformat": 4,
 "nbformat_minor": 2
}
